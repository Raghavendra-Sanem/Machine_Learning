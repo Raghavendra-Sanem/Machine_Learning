{
  "nbformat": 4,
  "nbformat_minor": 0,
  "metadata": {
    "colab": {
      "name": "Linear_Regression_Assignment.ipynb",
      "provenance": [],
      "authorship_tag": "ABX9TyMVwf/I06XnOWzQTj0Szlnm",
      "include_colab_link": true
    },
    "kernelspec": {
      "name": "python3",
      "display_name": "Python 3"
    },
    "language_info": {
      "name": "python"
    }
  },
  "cells": [
    {
      "cell_type": "markdown",
      "metadata": {
        "id": "view-in-github",
        "colab_type": "text"
      },
      "source": [
        "<a href=\"https://colab.research.google.com/github/Raghavendra-Sanem/Machine_Learning/blob/master/Linear_Regression_Assignment.ipynb\" target=\"_parent\"><img src=\"https://colab.research.google.com/assets/colab-badge.svg\" alt=\"Open In Colab\"/></a>"
      ]
    },
    {
      "cell_type": "code",
      "metadata": {
        "id": "n5Y643MOXvEd"
      },
      "source": [
        "from sklearn import datasets        #sklearn for ML models"
      ],
      "execution_count": 1,
      "outputs": []
    },
    {
      "cell_type": "code",
      "metadata": {
        "id": "-ynkJ4ocX91I"
      },
      "source": [
        "diabetes = datasets.load_diabetes() #loading diabetes datasets\n",
        "X = diabetes.data                   #features\n",
        "Y = diabetes.target                 #target"
      ],
      "execution_count": 6,
      "outputs": []
    },
    {
      "cell_type": "code",
      "metadata": {
        "colab": {
          "base_uri": "https://localhost:8080/"
        },
        "id": "Rai73tr3YnCv",
        "outputId": "8698118b-4c12-4591-fa7e-75700396f7c5"
      },
      "source": [
        "X.shape                             #442-rows & 10-columns "
      ],
      "execution_count": 10,
      "outputs": [
        {
          "output_type": "execute_result",
          "data": {
            "text/plain": [
              "(442, 10)"
            ]
          },
          "metadata": {},
          "execution_count": 10
        }
      ]
    },
    {
      "cell_type": "code",
      "metadata": {
        "id": "0IPmFH82bDPi"
      },
      "source": [
        "import pandas as pd\n",
        "df = pd.DataFrame(X)\n",
        "\n",
        "df.columns = diabetes.feature_names\n",
        "df.describe() "
      ],
      "execution_count": null,
      "outputs": []
    },
    {
      "cell_type": "code",
      "metadata": {
        "colab": {
          "base_uri": "https://localhost:8080/",
          "height": 154
        },
        "id": "g4Acr8lraWSh",
        "outputId": "85d52334-7257-4734-db68-68137c451c2f"
      },
      "source": [
        "diabetes.DESCR"
      ],
      "execution_count": 15,
      "outputs": [
        {
          "output_type": "execute_result",
          "data": {
            "application/vnd.google.colaboratory.intrinsic+json": {
              "type": "string"
            },
            "text/plain": [
              "'.. _diabetes_dataset:\\n\\nDiabetes dataset\\n----------------\\n\\nTen baseline variables, age, sex, body mass index, average blood\\npressure, and six blood serum measurements were obtained for each of n =\\n442 diabetes patients, as well as the response of interest, a\\nquantitative measure of disease progression one year after baseline.\\n\\n**Data Set Characteristics:**\\n\\n  :Number of Instances: 442\\n\\n  :Number of Attributes: First 10 columns are numeric predictive values\\n\\n  :Target: Column 11 is a quantitative measure of disease progression one year after baseline\\n\\n  :Attribute Information:\\n      - Age\\n      - Sex\\n      - Body mass index\\n      - Average blood pressure\\n      - S1\\n      - S2\\n      - S3\\n      - S4\\n      - S5\\n      - S6\\n\\nNote: Each of these 10 feature variables have been mean centered and scaled by the standard deviation times `n_samples` (i.e. the sum of squares of each column totals 1).\\n\\nSource URL:\\nhttps://www4.stat.ncsu.edu/~boos/var.select/diabetes.html\\n\\nFor more information see:\\nBradley Efron, Trevor Hastie, Iain Johnstone and Robert Tibshirani (2004) \"Least Angle Regression,\" Annals of Statistics (with discussion), 407-499.\\n(https://web.stanford.edu/~hastie/Papers/LARS/LeastAngle_2002.pdf)'"
            ]
          },
          "metadata": {},
          "execution_count": 15
        }
      ]
    },
    {
      "cell_type": "code",
      "metadata": {
        "colab": {
          "base_uri": "https://localhost:8080/"
        },
        "id": "gEvi6eLqbJRU",
        "outputId": "7ab07bf9-34f6-4a40-fd2e-74068fa79b79"
      },
      "source": [
        "from sklearn import model_selection\n",
        "X_train, X_test, Y_train, Y_test = model_selection.train_test_split(X, Y)          #splitting data - training(75%) & testing(25%)\n",
        "\n",
        "print(X_train.shape)\n",
        "print(X_test.shape)"
      ],
      "execution_count": 17,
      "outputs": [
        {
          "output_type": "stream",
          "name": "stdout",
          "text": [
            "(331, 10)\n",
            "(111, 10)\n"
          ]
        }
      ]
    },
    {
      "cell_type": "code",
      "metadata": {
        "colab": {
          "base_uri": "https://localhost:8080/"
        },
        "id": "dsgncLoacB0t",
        "outputId": "c0deafd4-3067-475b-d586-ef02f35b2e63"
      },
      "source": [
        "from sklearn.linear_model import LinearRegression\n",
        "\n",
        "alg = LinearRegression()\n",
        "alg.fit(X_train, Y_train)"
      ],
      "execution_count": 18,
      "outputs": [
        {
          "output_type": "execute_result",
          "data": {
            "text/plain": [
              "LinearRegression(copy_X=True, fit_intercept=True, n_jobs=None, normalize=False)"
            ]
          },
          "metadata": {},
          "execution_count": 18
        }
      ]
    },
    {
      "cell_type": "code",
      "metadata": {
        "id": "L3Ap9-chcXMb"
      },
      "source": [
        "Y_pred = alg.predict(X_test)\n"
      ],
      "execution_count": 28,
      "outputs": []
    },
    {
      "cell_type": "code",
      "metadata": {
        "colab": {
          "base_uri": "https://localhost:8080/",
          "height": 286
        },
        "id": "CoarbB9ock6u",
        "outputId": "757abe2a-b7a0-47fe-ae8e-6a0e3ee55e13"
      },
      "source": [
        "import matplotlib.pyplot as plt\n",
        "plt.scatter(Y_test, Y_pred)\n",
        "plt.axis([0,300,0,300])\n",
        "plt.show"
      ],
      "execution_count": 24,
      "outputs": [
        {
          "output_type": "execute_result",
          "data": {
            "text/plain": [
              "<function matplotlib.pyplot.show>"
            ]
          },
          "metadata": {},
          "execution_count": 24
        },
        {
          "output_type": "display_data",
          "data": {
            "image/png": "[encoded data removed]",
            "text/plain": [
              "<Figure size 432x288 with 1 Axes>"
            ]
          },
          "metadata": {
            "needs_background": "light"
          }
        }
      ]
    },
    {
      "cell_type": "code",
      "metadata": {
        "colab": {
          "base_uri": "https://localhost:8080/"
        },
        "id": "Rdcf5Em6dsGz",
        "outputId": "ad5c9436-3d25-4a21-86e2-a76fb50b12d5"
      },
      "source": [
        "alg.score(X_test,Y_test)"
      ],
      "execution_count": 31,
      "outputs": [
        {
          "output_type": "execute_result",
          "data": {
            "text/plain": [
              "0.4010917796982034"
            ]
          },
          "metadata": {},
          "execution_count": 31
        }
      ]
    },
    {
      "cell_type": "code",
      "metadata": {
        "colab": {
          "base_uri": "https://localhost:8080/"
        },
        "id": "bP3HO7Tmg5ZN",
        "outputId": "848cb96c-288f-4da2-ab84-459622a56326"
      },
      "source": [
        "alg.score(X_train,Y_train)"
      ],
      "execution_count": 32,
      "outputs": [
        {
          "output_type": "execute_result",
          "data": {
            "text/plain": [
              "0.5320144078763558"
            ]
          },
          "metadata": {},
          "execution_count": 32
        }
      ]
    }
  ]
}